{
 "cells": [
  {
   "cell_type": "markdown",
   "id": "696a8acf",
   "metadata": {},
   "source": [
    "**Prepared by:**\n",
    "\n",
    "Prof. Ashwini Kumar Mathur<br>\n",
    "Assistant Professor<br>\n",
    "SoCSE "
   ]
  },
  {
   "cell_type": "markdown",
   "id": "c4148c07",
   "metadata": {},
   "source": [
    "## **CO3 - Apply Linear Regression to Analyse the Relationship between Independent and dependent variables.** \n",
    "   "
   ]
  },
  {
   "cell_type": "markdown",
   "id": "10936ed5",
   "metadata": {},
   "source": [
    "### Recall: Loss Functions and Gradient Descent \n",
    "\n",
    "**Loss Function:**<br>  \n",
    "Imagine you're lost in a maze trying to find the exit.<br> \n",
    "Each path you take is like a guess about the direction to the exit. \n",
    "\n",
    "A. **But how do you know if you're getting closer or further away?**\n",
    "\n",
    "**Solution:** \n",
    "Think of the loss function as a honest guide who tells you how bad your current guess (path) is.<br>\n",
    "The **worse your guess**, the **higher the loss**, But if you get closer, the loss goes down.\n",
    "\n",
    "\n",
    "B. Now, **how do you actually move towards the exit based on the guide's feedback?** \n",
    "\n",
    "**Solution**: That's where **gradient descent** steps in. Think of it as a gentle friend who listens to the guide and nudges you in the direction with the lower loss, eventually leading you out of the maze.\n",
    "\n",
    "\n",
    "**Steps of Calculating Loss Function and Gradient Descent**\n",
    "\n",
    "Here's how it works:\n",
    "\n",
    "01. **Take a guess (choose a path):** Your initial model is like a blind guess about the correct path.\n",
    "02. **Calculate the loss (listen to the guide):** Use the loss function to measure how bad your guess is.\n",
    "03. **Find the direction of lower loss (ask the friend):** Calculate the gradient of the loss function, which points in the direction of lower loss.\n",
    "04. **Take a small step in that direction (follow the friend's nudge):** Update your model parameters (like taking a small step) in the direction of the gradient.\n",
    "05. **Repeat steps 2-4 until you reach the exit (minimize the loss):** Keep iterating, always moving towards the direction with lower loss, until you finally exit the maze (find the optimal model parameters)."
   ]
  },
  {
   "cell_type": "markdown",
   "id": "b77ed143",
   "metadata": {},
   "source": [
    "## **Exercise Activity:** \n",
    "\n",
    "Apply Linear regression to analyse the relationship between Independent and Dependent Variables"
   ]
  },
  {
   "cell_type": "markdown",
   "id": "70e8a561",
   "metadata": {},
   "source": [
    "### Basic Overview of Independent and dependent varaibles.\n",
    "\n",
    "**Independent Variable (IV):** The variable you control or manipulate in an experiment or study. It's the \"cause\" you think might affect the outcome.\n",
    "\n",
    "**Dependent Variable (DV):** The variable you measure or observe to see how it changes in response to the independent variable. It's the \"effect\" you're interested in.\n",
    "\n",
    "Lets understand with the help of example mentioned below: \n",
    "\n",
    "### Nutrition Diet Examples:\n",
    "\n",
    "1. **Independent Variable:** Amount of fruits and vegetables consumed per day (e.g., 0 servings, 2 servings, 5 servings)<br>\n",
    "**Dependent Variable:** Blood pressure levels<br>\n",
    "<br>\n",
    "2. **Independent Variable:** Type of breakfast consumed (e.g., high-protein, high-fiber, high-sugar)<br>\n",
    "**Dependent Variable:** Energy levels and cognitive performance throughout the morning<br>\n",
    "<br>\n",
    "3. **Independent Variable:** Daily water intake (e.g., 1 liter, 2 liters, 3 liters)<br>\n",
    "**Dependent Variable:** Skin hydration levels<br>\n",
    "<br>\n",
    "4. **Independent Variable:** Amount of added sugar in the diet (e.g., 0 grams, 25 grams, 50 grams)<br>\n",
    "**Dependent Variable:** Weight gain or loss<br>\n",
    "<br>\n",
    "5. **Independent Variable:** Frequency of exercise per week (e.g., 0 times, 3 times, 5 times)<br>\n",
    "**Dependent Variable:** Muscle mass and body composition"
   ]
  },
  {
   "cell_type": "markdown",
   "id": "723de31d",
   "metadata": {},
   "source": [
    "Excercise Question: **Plant Growth:**\n",
    "\n",
    "Imagine you're growing a plant and want to understand how it grows.\n",
    "\n",
    "- Amount of sunlight the plant receives (e.g., 4 hours, 8 hours, 12 hours)ndependent variable:** \n",
    "- Height of the plant after a week\n",
    "\n",
    "Q: Identify, Which One is dependent variable and Independent Variable."
   ]
  },
  {
   "cell_type": "markdown",
   "id": "308af341",
   "metadata": {},
   "source": [
    "## Implementation of Linear regression using python [ Pre-built function ]"
   ]
  },
  {
   "cell_type": "code",
   "execution_count": 1,
   "id": "df8728ae",
   "metadata": {},
   "outputs": [],
   "source": [
    "import pandas as pd\n",
    "from sklearn.linear_model import LinearRegression\n",
    "import matplotlib.pyplot as plt"
   ]
  },
  {
   "cell_type": "code",
   "execution_count": 2,
   "id": "19307b61",
   "metadata": {},
   "outputs": [],
   "source": [
    "# Create sample data\n",
    "data = {\n",
    "    'fruits_veggies': [0, 2, 5, 1, 3, 4],\n",
    "    'blood_pressure': [140, 125, 110, 135, 120, 115]\n",
    "}\n",
    "\n",
    "# Dependent Variable = blood_pressure\n",
    "# Independent Variable = fruits_veggies"
   ]
  },
  {
   "cell_type": "code",
   "execution_count": 3,
   "id": "c0c85531",
   "metadata": {},
   "outputs": [
    {
     "data": {
      "text/plain": [
       "{'fruits_veggies': [0, 2, 5, 1, 3, 4],\n",
       " 'blood_pressure': [140, 125, 110, 135, 120, 115]}"
      ]
     },
     "execution_count": 3,
     "metadata": {},
     "output_type": "execute_result"
    }
   ],
   "source": [
    "data"
   ]
  },
  {
   "cell_type": "code",
   "execution_count": 4,
   "id": "9a6c051d",
   "metadata": {},
   "outputs": [],
   "source": [
    "# Create a DataFrame\n",
    "df = pd.DataFrame(data)"
   ]
  },
  {
   "cell_type": "code",
   "execution_count": 5,
   "id": "334c00e1",
   "metadata": {},
   "outputs": [
    {
     "data": {
      "text/html": [
       "<div>\n",
       "<style scoped>\n",
       "    .dataframe tbody tr th:only-of-type {\n",
       "        vertical-align: middle;\n",
       "    }\n",
       "\n",
       "    .dataframe tbody tr th {\n",
       "        vertical-align: top;\n",
       "    }\n",
       "\n",
       "    .dataframe thead th {\n",
       "        text-align: right;\n",
       "    }\n",
       "</style>\n",
       "<table border=\"1\" class=\"dataframe\">\n",
       "  <thead>\n",
       "    <tr style=\"text-align: right;\">\n",
       "      <th></th>\n",
       "      <th>fruits_veggies</th>\n",
       "      <th>blood_pressure</th>\n",
       "    </tr>\n",
       "  </thead>\n",
       "  <tbody>\n",
       "    <tr>\n",
       "      <th>0</th>\n",
       "      <td>0</td>\n",
       "      <td>140</td>\n",
       "    </tr>\n",
       "    <tr>\n",
       "      <th>1</th>\n",
       "      <td>2</td>\n",
       "      <td>125</td>\n",
       "    </tr>\n",
       "    <tr>\n",
       "      <th>2</th>\n",
       "      <td>5</td>\n",
       "      <td>110</td>\n",
       "    </tr>\n",
       "    <tr>\n",
       "      <th>3</th>\n",
       "      <td>1</td>\n",
       "      <td>135</td>\n",
       "    </tr>\n",
       "    <tr>\n",
       "      <th>4</th>\n",
       "      <td>3</td>\n",
       "      <td>120</td>\n",
       "    </tr>\n",
       "    <tr>\n",
       "      <th>5</th>\n",
       "      <td>4</td>\n",
       "      <td>115</td>\n",
       "    </tr>\n",
       "  </tbody>\n",
       "</table>\n",
       "</div>"
      ],
      "text/plain": [
       "   fruits_veggies  blood_pressure\n",
       "0               0             140\n",
       "1               2             125\n",
       "2               5             110\n",
       "3               1             135\n",
       "4               3             120\n",
       "5               4             115"
      ]
     },
     "execution_count": 5,
     "metadata": {},
     "output_type": "execute_result"
    }
   ],
   "source": [
    "df"
   ]
  },
  {
   "cell_type": "code",
   "execution_count": 6,
   "id": "63ec641c",
   "metadata": {},
   "outputs": [],
   "source": [
    "# Define independent and dependent variables\n",
    "X = df['fruits_veggies'].values.reshape(-1, 1)  # Reshape for linear regression\n",
    "y = df['blood_pressure']"
   ]
  },
  {
   "cell_type": "code",
   "execution_count": 7,
   "id": "35d4ddb4",
   "metadata": {},
   "outputs": [
    {
     "data": {
      "text/plain": [
       "array([[0],\n",
       "       [2],\n",
       "       [5],\n",
       "       [1],\n",
       "       [3],\n",
       "       [4]])"
      ]
     },
     "execution_count": 7,
     "metadata": {},
     "output_type": "execute_result"
    }
   ],
   "source": [
    "X #convert into 2D array "
   ]
  },
  {
   "cell_type": "code",
   "execution_count": 8,
   "id": "64fecbcc",
   "metadata": {},
   "outputs": [],
   "source": [
    "# Create a linear regression model \n",
    "model = LinearRegression()"
   ]
  },
  {
   "cell_type": "code",
   "execution_count": 9,
   "id": "c9ef6d35",
   "metadata": {},
   "outputs": [
    {
     "data": {
      "text/html": [
       "<style>#sk-container-id-1 {color: black;}#sk-container-id-1 pre{padding: 0;}#sk-container-id-1 div.sk-toggleable {background-color: white;}#sk-container-id-1 label.sk-toggleable__label {cursor: pointer;display: block;width: 100%;margin-bottom: 0;padding: 0.3em;box-sizing: border-box;text-align: center;}#sk-container-id-1 label.sk-toggleable__label-arrow:before {content: \"▸\";float: left;margin-right: 0.25em;color: #696969;}#sk-container-id-1 label.sk-toggleable__label-arrow:hover:before {color: black;}#sk-container-id-1 div.sk-estimator:hover label.sk-toggleable__label-arrow:before {color: black;}#sk-container-id-1 div.sk-toggleable__content {max-height: 0;max-width: 0;overflow: hidden;text-align: left;background-color: #f0f8ff;}#sk-container-id-1 div.sk-toggleable__content pre {margin: 0.2em;color: black;border-radius: 0.25em;background-color: #f0f8ff;}#sk-container-id-1 input.sk-toggleable__control:checked~div.sk-toggleable__content {max-height: 200px;max-width: 100%;overflow: auto;}#sk-container-id-1 input.sk-toggleable__control:checked~label.sk-toggleable__label-arrow:before {content: \"▾\";}#sk-container-id-1 div.sk-estimator input.sk-toggleable__control:checked~label.sk-toggleable__label {background-color: #d4ebff;}#sk-container-id-1 div.sk-label input.sk-toggleable__control:checked~label.sk-toggleable__label {background-color: #d4ebff;}#sk-container-id-1 input.sk-hidden--visually {border: 0;clip: rect(1px 1px 1px 1px);clip: rect(1px, 1px, 1px, 1px);height: 1px;margin: -1px;overflow: hidden;padding: 0;position: absolute;width: 1px;}#sk-container-id-1 div.sk-estimator {font-family: monospace;background-color: #f0f8ff;border: 1px dotted black;border-radius: 0.25em;box-sizing: border-box;margin-bottom: 0.5em;}#sk-container-id-1 div.sk-estimator:hover {background-color: #d4ebff;}#sk-container-id-1 div.sk-parallel-item::after {content: \"\";width: 100%;border-bottom: 1px solid gray;flex-grow: 1;}#sk-container-id-1 div.sk-label:hover label.sk-toggleable__label {background-color: #d4ebff;}#sk-container-id-1 div.sk-serial::before {content: \"\";position: absolute;border-left: 1px solid gray;box-sizing: border-box;top: 0;bottom: 0;left: 50%;z-index: 0;}#sk-container-id-1 div.sk-serial {display: flex;flex-direction: column;align-items: center;background-color: white;padding-right: 0.2em;padding-left: 0.2em;position: relative;}#sk-container-id-1 div.sk-item {position: relative;z-index: 1;}#sk-container-id-1 div.sk-parallel {display: flex;align-items: stretch;justify-content: center;background-color: white;position: relative;}#sk-container-id-1 div.sk-item::before, #sk-container-id-1 div.sk-parallel-item::before {content: \"\";position: absolute;border-left: 1px solid gray;box-sizing: border-box;top: 0;bottom: 0;left: 50%;z-index: -1;}#sk-container-id-1 div.sk-parallel-item {display: flex;flex-direction: column;z-index: 1;position: relative;background-color: white;}#sk-container-id-1 div.sk-parallel-item:first-child::after {align-self: flex-end;width: 50%;}#sk-container-id-1 div.sk-parallel-item:last-child::after {align-self: flex-start;width: 50%;}#sk-container-id-1 div.sk-parallel-item:only-child::after {width: 0;}#sk-container-id-1 div.sk-dashed-wrapped {border: 1px dashed gray;margin: 0 0.4em 0.5em 0.4em;box-sizing: border-box;padding-bottom: 0.4em;background-color: white;}#sk-container-id-1 div.sk-label label {font-family: monospace;font-weight: bold;display: inline-block;line-height: 1.2em;}#sk-container-id-1 div.sk-label-container {text-align: center;}#sk-container-id-1 div.sk-container {/* jupyter's `normalize.less` sets `[hidden] { display: none; }` but bootstrap.min.css set `[hidden] { display: none !important; }` so we also need the `!important` here to be able to override the default hidden behavior on the sphinx rendered scikit-learn.org. See: https://github.com/scikit-learn/scikit-learn/issues/21755 */display: inline-block !important;position: relative;}#sk-container-id-1 div.sk-text-repr-fallback {display: none;}</style><div id=\"sk-container-id-1\" class=\"sk-top-container\"><div class=\"sk-text-repr-fallback\"><pre>LinearRegression()</pre><b>In a Jupyter environment, please rerun this cell to show the HTML representation or trust the notebook. <br />On GitHub, the HTML representation is unable to render, please try loading this page with nbviewer.org.</b></div><div class=\"sk-container\" hidden><div class=\"sk-item\"><div class=\"sk-estimator sk-toggleable\"><input class=\"sk-toggleable__control sk-hidden--visually\" id=\"sk-estimator-id-1\" type=\"checkbox\" checked><label for=\"sk-estimator-id-1\" class=\"sk-toggleable__label sk-toggleable__label-arrow\">LinearRegression</label><div class=\"sk-toggleable__content\"><pre>LinearRegression()</pre></div></div></div></div></div>"
      ],
      "text/plain": [
       "LinearRegression()"
      ]
     },
     "execution_count": 9,
     "metadata": {},
     "output_type": "execute_result"
    }
   ],
   "source": [
    "# Fit the model to the data\n",
    "model.fit(X, y)"
   ]
  },
  {
   "cell_type": "code",
   "execution_count": 10,
   "id": "1ecfe3b9",
   "metadata": {},
   "outputs": [],
   "source": [
    "# Make predictions\n",
    "predicted_bp = model.predict(X)"
   ]
  },
  {
   "cell_type": "code",
   "execution_count": 11,
   "id": "02b82ed3",
   "metadata": {},
   "outputs": [
    {
     "data": {
      "image/png": "[encoded data removed]",
      "text/plain": [
       "<Figure size 640x480 with 1 Axes>"
      ]
     },
     "metadata": {},
     "output_type": "display_data"
    }
   ],
   "source": [
    "# Visualize the results\n",
    "plt.scatter(X, y, label='Actual Blood Pressure')\n",
    "plt.plot(X, predicted_bp, color='red', label='Predicted Blood Pressure')\n",
    "plt.xlabel('Fruits/Veggies Intake (servings/day)')\n",
    "plt.ylabel('Blood Pressure (mmHg)')\n",
    "plt.title('Linear Regression: Fruits/Veggies vs Blood Pressure')\n",
    "plt.legend()\n",
    "plt.show()"
   ]
  },
  {
   "cell_type": "code",
   "execution_count": 12,
   "id": "45cfd3ef",
   "metadata": {},
   "outputs": [
    {
     "name": "stdout",
     "output_type": "stream",
     "text": [
      "Slope: -6.142857142857142\n",
      "Intercept: 139.52380952380952\n"
     ]
    }
   ],
   "source": [
    "# Print the model's slope and intercept\n",
    "print(\"Slope:\", model.coef_[0])\n",
    "print(\"Intercept:\", model.intercept_)"
   ]
  },
  {
   "cell_type": "code",
   "execution_count": 13,
   "id": "aae2fc11",
   "metadata": {},
   "outputs": [
    {
     "name": "stdout",
     "output_type": "stream",
     "text": [
      "R-squared: 0.9843833185448092\n"
     ]
    }
   ],
   "source": [
    "# Evaluation Metrics using R squared error\n",
    "'''\n",
    "R-squared: Measures the proportion of variance in the dependent variable explained by the model. \n",
    "Higher values (closer to 1) indicate better fit.\n",
    "'''\n",
    "print(\"R-squared:\", model.score(X, y))"
   ]
  },
  {
   "cell_type": "code",
   "execution_count": 14,
   "id": "3302619f",
   "metadata": {},
   "outputs": [
    {
     "name": "stdout",
     "output_type": "stream",
     "text": [
      "Mean Squared Error: 1.7460317460317463\n"
     ]
    }
   ],
   "source": [
    "# Evaluation Metrics using Mean_Squared_error\n",
    "'''\n",
    "Mean Squared Error (MSE): Average squared difference between actual and predicted values. \n",
    "Lower values indicate better fit.\n",
    "'''\n",
    "\n",
    "from sklearn.metrics import mean_squared_error\n",
    "print(\"Mean Squared Error:\", mean_squared_error(y, predicted_bp))"
   ]
  },
  {
   "cell_type": "markdown",
   "id": "f38dc219",
   "metadata": {},
   "source": [
    "### Interpretation of the above:\n",
    "\n",
    "**R-squared (R²):**<br>\n",
    "<br>\n",
    "**Measures:** The proportion of the variance in the dependent variable (y) that's explained by the independent variable (x) in the model.<br>\n",
    "**Range:** 0 to 1, with 0 indicating no relationship and 1 indicating a perfect fit.\n",
    "\n",
    "\n",
    "**Interpretation:**<br>\n",
    "- A higher R-squared value suggests the model explains more of the variability in the data.\n",
    "For example, an R-squared of 0.75 suggests the model accounts for 75% of the observed variation in the dependent variable.<br>\n",
    "- However, it's **crucial to note that R-squared doesn't guarantee model quality or causation.** It's possible to have high R-squared values for models that don't represent true relationships.\n",
    "\n",
    "**Mean Squared Error (MSE):**<br>\n",
    "<br>\n",
    "**Measures:** The average squared difference between the actual values (y) and the predicted values (ŷ).\n",
    "Interpretation:<br>\n",
    "\n",
    "- A lower MSE indicates a better fit, as the model's predictions are closer to the observed values.\n",
    "MSE is expressed in the same units as the squared dependent variable, making it interpretable in the context of the problem.\n",
    "\n",
    "- **For example**, an MSE of 25 (mmHg)² suggests an average error of 5 mmHg in blood pressure predictions.\n"
   ]
  },
  {
   "cell_type": "markdown",
   "id": "97e2b6cc",
   "metadata": {},
   "source": [
    "## Class activity excercise: [ Beginner Level ] \n",
    "\n",
    "Important Note: **Remove the solution part before circulation to the students**"
   ]
  },
  {
   "cell_type": "code",
   "execution_count": 15,
   "id": "341aecf9",
   "metadata": {},
   "outputs": [],
   "source": [
    "#import the neccessary library and Dataset\n",
    "import pandas as pd\n",
    "from sklearn.linear_model import LinearRegression\n",
    "import matplotlib.pyplot as plt\n",
    "from sklearn.model_selection import train_test_split\n",
    "from sklearn.preprocessing import LabelEncoder"
   ]
  },
  {
   "cell_type": "code",
   "execution_count": 36,
   "id": "c606795a",
   "metadata": {},
   "outputs": [
    {
     "data": {
      "text/html": [
       "<div>\n",
       "<style scoped>\n",
       "    .dataframe tbody tr th:only-of-type {\n",
       "        vertical-align: middle;\n",
       "    }\n",
       "\n",
       "    .dataframe tbody tr th {\n",
       "        vertical-align: top;\n",
       "    }\n",
       "\n",
       "    .dataframe thead th {\n",
       "        text-align: right;\n",
       "    }\n",
       "</style>\n",
       "<table border=\"1\" class=\"dataframe\">\n",
       "  <thead>\n",
       "    <tr style=\"text-align: right;\">\n",
       "      <th></th>\n",
       "      <th>Id</th>\n",
       "      <th>SepalLengthCm</th>\n",
       "      <th>SepalWidthCm</th>\n",
       "      <th>PetalLengthCm</th>\n",
       "      <th>PetalWidthCm</th>\n",
       "      <th>Species</th>\n",
       "    </tr>\n",
       "  </thead>\n",
       "  <tbody>\n",
       "    <tr>\n",
       "      <th>0</th>\n",
       "      <td>1</td>\n",
       "      <td>5.1</td>\n",
       "      <td>3.5</td>\n",
       "      <td>1.4</td>\n",
       "      <td>0.2</td>\n",
       "      <td>Iris-setosa</td>\n",
       "    </tr>\n",
       "    <tr>\n",
       "      <th>1</th>\n",
       "      <td>2</td>\n",
       "      <td>4.9</td>\n",
       "      <td>3.0</td>\n",
       "      <td>1.4</td>\n",
       "      <td>0.2</td>\n",
       "      <td>Iris-setosa</td>\n",
       "    </tr>\n",
       "    <tr>\n",
       "      <th>2</th>\n",
       "      <td>3</td>\n",
       "      <td>4.7</td>\n",
       "      <td>3.2</td>\n",
       "      <td>1.3</td>\n",
       "      <td>0.2</td>\n",
       "      <td>Iris-setosa</td>\n",
       "    </tr>\n",
       "    <tr>\n",
       "      <th>3</th>\n",
       "      <td>4</td>\n",
       "      <td>4.6</td>\n",
       "      <td>3.1</td>\n",
       "      <td>1.5</td>\n",
       "      <td>0.2</td>\n",
       "      <td>Iris-setosa</td>\n",
       "    </tr>\n",
       "    <tr>\n",
       "      <th>4</th>\n",
       "      <td>5</td>\n",
       "      <td>5.0</td>\n",
       "      <td>3.6</td>\n",
       "      <td>1.4</td>\n",
       "      <td>0.2</td>\n",
       "      <td>Iris-setosa</td>\n",
       "    </tr>\n",
       "    <tr>\n",
       "      <th>...</th>\n",
       "      <td>...</td>\n",
       "      <td>...</td>\n",
       "      <td>...</td>\n",
       "      <td>...</td>\n",
       "      <td>...</td>\n",
       "      <td>...</td>\n",
       "    </tr>\n",
       "    <tr>\n",
       "      <th>145</th>\n",
       "      <td>146</td>\n",
       "      <td>6.7</td>\n",
       "      <td>3.0</td>\n",
       "      <td>5.2</td>\n",
       "      <td>2.3</td>\n",
       "      <td>Iris-virginica</td>\n",
       "    </tr>\n",
       "    <tr>\n",
       "      <th>146</th>\n",
       "      <td>147</td>\n",
       "      <td>6.3</td>\n",
       "      <td>2.5</td>\n",
       "      <td>5.0</td>\n",
       "      <td>1.9</td>\n",
       "      <td>Iris-virginica</td>\n",
       "    </tr>\n",
       "    <tr>\n",
       "      <th>147</th>\n",
       "      <td>148</td>\n",
       "      <td>6.5</td>\n",
       "      <td>3.0</td>\n",
       "      <td>5.2</td>\n",
       "      <td>2.0</td>\n",
       "      <td>Iris-virginica</td>\n",
       "    </tr>\n",
       "    <tr>\n",
       "      <th>148</th>\n",
       "      <td>149</td>\n",
       "      <td>6.2</td>\n",
       "      <td>3.4</td>\n",
       "      <td>5.4</td>\n",
       "      <td>2.3</td>\n",
       "      <td>Iris-virginica</td>\n",
       "    </tr>\n",
       "    <tr>\n",
       "      <th>149</th>\n",
       "      <td>150</td>\n",
       "      <td>5.9</td>\n",
       "      <td>3.0</td>\n",
       "      <td>5.1</td>\n",
       "      <td>1.8</td>\n",
       "      <td>Iris-virginica</td>\n",
       "    </tr>\n",
       "  </tbody>\n",
       "</table>\n",
       "<p>150 rows × 6 columns</p>\n",
       "</div>"
      ],
      "text/plain": [
       "      Id  SepalLengthCm  SepalWidthCm  PetalLengthCm  PetalWidthCm  \\\n",
       "0      1            5.1           3.5            1.4           0.2   \n",
       "1      2            4.9           3.0            1.4           0.2   \n",
       "2      3            4.7           3.2            1.3           0.2   \n",
       "3      4            4.6           3.1            1.5           0.2   \n",
       "4      5            5.0           3.6            1.4           0.2   \n",
       "..   ...            ...           ...            ...           ...   \n",
       "145  146            6.7           3.0            5.2           2.3   \n",
       "146  147            6.3           2.5            5.0           1.9   \n",
       "147  148            6.5           3.0            5.2           2.0   \n",
       "148  149            6.2           3.4            5.4           2.3   \n",
       "149  150            5.9           3.0            5.1           1.8   \n",
       "\n",
       "            Species  \n",
       "0       Iris-setosa  \n",
       "1       Iris-setosa  \n",
       "2       Iris-setosa  \n",
       "3       Iris-setosa  \n",
       "4       Iris-setosa  \n",
       "..              ...  \n",
       "145  Iris-virginica  \n",
       "146  Iris-virginica  \n",
       "147  Iris-virginica  \n",
       "148  Iris-virginica  \n",
       "149  Iris-virginica  \n",
       "\n",
       "[150 rows x 6 columns]"
      ]
     },
     "execution_count": 36,
     "metadata": {},
     "output_type": "execute_result"
    }
   ],
   "source": [
    "#Load the required Dataset\n",
    "iris = pd.read_csv('/Users/ashwinimathur/Desktop/iris.csv')\n",
    "iris"
   ]
  },
  {
   "cell_type": "code",
   "execution_count": 52,
   "id": "a0d1c988",
   "metadata": {},
   "outputs": [],
   "source": [
    "#Data Pre-processing \n",
    "\n",
    "X = iris[['SepalLengthCm', 'SepalWidthCm', 'PetalLengthCm', 'PetalWidthCm']] \n",
    "y = iris['Species']  # Assuming 'species' is the target column"
   ]
  },
  {
   "cell_type": "code",
   "execution_count": 45,
   "id": "3a707db8",
   "metadata": {},
   "outputs": [
    {
     "data": {
      "text/plain": [
       "array([0, 0, 0, 0, 0, 0, 0, 0, 0, 0, 0, 0, 0, 0, 0, 0, 0, 0, 0, 0, 0, 0,\n",
       "       0, 0, 0, 0, 0, 0, 0, 0, 0, 0, 0, 0, 0, 0, 0, 0, 0, 0, 0, 0, 0, 0,\n",
       "       0, 0, 0, 0, 0, 0, 1, 1, 1, 1, 1, 1, 1, 1, 1, 1, 1, 1, 1, 1, 1, 1,\n",
       "       1, 1, 1, 1, 1, 1, 1, 1, 1, 1, 1, 1, 1, 1, 1, 1, 1, 1, 1, 1, 1, 1,\n",
       "       1, 1, 1, 1, 1, 1, 1, 1, 1, 1, 1, 1, 2, 2, 2, 2, 2, 2, 2, 2, 2, 2,\n",
       "       2, 2, 2, 2, 2, 2, 2, 2, 2, 2, 2, 2, 2, 2, 2, 2, 2, 2, 2, 2, 2, 2,\n",
       "       2, 2, 2, 2, 2, 2, 2, 2, 2, 2, 2, 2, 2, 2, 2, 2, 2, 2])"
      ]
     },
     "execution_count": 45,
     "metadata": {},
     "output_type": "execute_result"
    }
   ],
   "source": [
    "# Hot Encoding the target values \n",
    "encoder = LabelEncoder()\n",
    "y = encoder.fit_transform(y)\n",
    "y"
   ]
  },
  {
   "cell_type": "code",
   "execution_count": 46,
   "id": "62b1610a",
   "metadata": {},
   "outputs": [],
   "source": [
    "# 80% for training, 20% for testing\n",
    "X_train, X_test, y_train, y_test = train_test_split(X, y, test_size=0.2, random_state=42)  "
   ]
  },
  {
   "cell_type": "code",
   "execution_count": 47,
   "id": "676bb945",
   "metadata": {
    "scrolled": true
   },
   "outputs": [
    {
     "name": "stdout",
     "output_type": "stream",
     "text": [
      "Intercept: 0.2582505124634553\n",
      "Coefficients: [-0.11368098 -0.06458377  0.25261442  0.54938903]\n"
     ]
    }
   ],
   "source": [
    "# Apply the Linear Regression model\n",
    "\n",
    "# Create a LinearRegression object\n",
    "model = LinearRegression()\n",
    "\n",
    "# Fit the model to the data\n",
    "model.fit(X_train, y_train)\n",
    "\n",
    "# Get the intercept and coefficients\n",
    "intercept = model.intercept_\n",
    "coefficients = model.coef_\n",
    "\n",
    "print(\"Intercept:\", intercept)\n",
    "print(\"Coefficients:\", coefficients)"
   ]
  },
  {
   "cell_type": "code",
   "execution_count": 48,
   "id": "8962133f",
   "metadata": {},
   "outputs": [
    {
     "name": "stdout",
     "output_type": "stream",
     "text": [
      "R-squared on training set: 0.9255010261547526\n"
     ]
    }
   ],
   "source": [
    "#Evaluation Metrics\n",
    "\n",
    "# Make predictions on the training set\n",
    "y_pred_train = model.predict(X_train)\n",
    "\n",
    "# Evaluate model performance on the training set (e.g., using R-squared)\n",
    "from sklearn.metrics import r2_score\n",
    "print(\"R-squared on training set:\", r2_score(y_train, y_pred_train))"
   ]
  },
  {
   "cell_type": "code",
   "execution_count": 49,
   "id": "1498a0ff",
   "metadata": {},
   "outputs": [
    {
     "name": "stdout",
     "output_type": "stream",
     "text": [
      "R-squared on testing set: 0.9467245149351708\n"
     ]
    }
   ],
   "source": [
    "# Make predictions on the testing set\n",
    "y_pred_test = model.predict(X_test)\n",
    "\n",
    "# Evaluate model performance on the testing set\n",
    "print(\"R-squared on testing set:\", r2_score(y_test, y_pred_test))\n"
   ]
  },
  {
   "cell_type": "code",
   "execution_count": 50,
   "id": "5b5fd9e5",
   "metadata": {},
   "outputs": [
    {
     "name": "stdout",
     "output_type": "stream",
     "text": [
      "Mean Squared Error: 0.049039984241604155\n"
     ]
    }
   ],
   "source": [
    "# Evaluate model performance on the training set (e.g., using MSE)\n",
    "from sklearn.metrics import mean_squared_error\n",
    "print(\"Mean Squared Error:\", mean_squared_error(y_train, y_pred_train))"
   ]
  },
  {
   "cell_type": "code",
   "execution_count": 51,
   "id": "b841bdd6",
   "metadata": {},
   "outputs": [
    {
     "name": "stdout",
     "output_type": "stream",
     "text": [
      "Mean Squared Error: 0.03723364456197501\n"
     ]
    }
   ],
   "source": [
    "# Evaluate model performance on the training set (e.g., using MSE)\n",
    "from sklearn.metrics import mean_squared_error\n",
    "print(\"Mean Squared Error:\", mean_squared_error(y_test, y_pred_test))"
   ]
  },
  {
   "cell_type": "markdown",
   "id": "1e12ded0",
   "metadata": {},
   "source": [
    "## Class activity excercise: [ Intermediate Level ]"
   ]
  },
  {
   "cell_type": "markdown",
   "id": "11557f84",
   "metadata": {},
   "source": [
    "**Problem:** Use the given link to explore the Dataset and Apply the Linear Regression Algorithm for finding the relationship between Dependent and Independent variables \n",
    "\n",
    "\n",
    "Lik: https://www.kaggle.com/code/parulpandey/penguin-dataset-the-new-iris/input"
   ]
  },
  {
   "cell_type": "code",
   "execution_count": 24,
   "id": "1790d3b1",
   "metadata": {},
   "outputs": [],
   "source": [
    "#import the neccessary library and Dataset"
   ]
  },
  {
   "cell_type": "code",
   "execution_count": 25,
   "id": "851f9de1",
   "metadata": {},
   "outputs": [],
   "source": [
    "#Data Pre-processing"
   ]
  },
  {
   "cell_type": "code",
   "execution_count": 26,
   "id": "0b2f4681",
   "metadata": {},
   "outputs": [],
   "source": [
    "#Split the Dataset into training and testing Set"
   ]
  },
  {
   "cell_type": "code",
   "execution_count": 27,
   "id": "0306441e",
   "metadata": {},
   "outputs": [],
   "source": [
    "#Apply the Model"
   ]
  },
  {
   "cell_type": "code",
   "execution_count": 28,
   "id": "ecaa4ef4",
   "metadata": {},
   "outputs": [],
   "source": [
    "#Evaluation Metrics"
   ]
  }
 ],
 "metadata": {
  "kernelspec": {
   "display_name": "Python 3 (ipykernel)",
   "language": "python",
   "name": "python3"
  },
  "language_info": {
   "codemirror_mode": {
    "name": "ipython",
    "version": 3
   },
   "file_extension": ".py",
   "mimetype": "text/x-python",
   "name": "python",
   "nbconvert_exporter": "python",
   "pygments_lexer": "ipython3",
   "version": "3.11.4"
  }
 },
 "nbformat": 4,
 "nbformat_minor": 5
}
