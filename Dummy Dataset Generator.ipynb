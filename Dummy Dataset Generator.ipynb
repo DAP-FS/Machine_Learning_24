{
 "cells": [
  {
   "cell_type": "code",
   "execution_count": 1,
   "id": "1a973358",
   "metadata": {},
   "outputs": [
    {
     "name": "stdout",
     "output_type": "stream",
     "text": [
      "Dummy dataset created successfully!\n"
     ]
    }
   ],
   "source": [
    "import csv\n",
    "import random\n",
    "\n",
    "names = [\"Alice\", \"Bob\", \"Charlie\", \"David\", \"Emily\", \"Frank\", \"Grace\", \"Henry\", \"Isabella\", \"Jack\",\n",
    "         \"Kate\", \"Logan\", \"Madison\", \"Noah\", \"Olivia\", \"Peter\", \"Quinn\", \"Robert\", \"Sophia\", \"Thomas\",\n",
    "         \"Uma\", \"Victor\", \"Wyatt\", \"Xander\", \"Yvonne\", \"Zoe\", \"Aaron\", \"Ben\", \"Charlotte\"]\n",
    "\n",
    "with open(\"dummy_student_data.csv\", \"w\", newline=\"\") as csvfile:\n",
    "    fieldnames = [\"name\", \"weight\", \"height\"]\n",
    "    writer = csv.DictWriter(csvfile, fieldnames=fieldnames)\n",
    "\n",
    "    writer.writeheader()\n",
    "\n",
    "    for i in range(30):\n",
    "        name = random.choice(names)\n",
    "        weight = random.randint(40, 120)  # Adjust weight range as needed\n",
    "        height = random.randint(140, 190)  # Adjust height range as needed\n",
    "        writer.writerow({\"name\": name, \"weight\": weight, \"height\": height})\n",
    "\n",
    "print(\"Dummy dataset created successfully!\")"
   ]
  },
  {
   "cell_type": "code",
   "execution_count": 5,
   "id": "8b2866bc",
   "metadata": {},
   "outputs": [
    {
     "data": {
      "text/html": [
       "<div>\n",
       "<style scoped>\n",
       "    .dataframe tbody tr th:only-of-type {\n",
       "        vertical-align: middle;\n",
       "    }\n",
       "\n",
       "    .dataframe tbody tr th {\n",
       "        vertical-align: top;\n",
       "    }\n",
       "\n",
       "    .dataframe thead th {\n",
       "        text-align: right;\n",
       "    }\n",
       "</style>\n",
       "<table border=\"1\" class=\"dataframe\">\n",
       "  <thead>\n",
       "    <tr style=\"text-align: right;\">\n",
       "      <th></th>\n",
       "      <th>name</th>\n",
       "      <th>weight</th>\n",
       "      <th>height</th>\n",
       "    </tr>\n",
       "  </thead>\n",
       "  <tbody>\n",
       "    <tr>\n",
       "      <th>0</th>\n",
       "      <td>Emily</td>\n",
       "      <td>79</td>\n",
       "      <td>174</td>\n",
       "    </tr>\n",
       "    <tr>\n",
       "      <th>1</th>\n",
       "      <td>Henry</td>\n",
       "      <td>80</td>\n",
       "      <td>162</td>\n",
       "    </tr>\n",
       "    <tr>\n",
       "      <th>2</th>\n",
       "      <td>Olivia</td>\n",
       "      <td>58</td>\n",
       "      <td>168</td>\n",
       "    </tr>\n",
       "    <tr>\n",
       "      <th>3</th>\n",
       "      <td>Thomas</td>\n",
       "      <td>62</td>\n",
       "      <td>156</td>\n",
       "    </tr>\n",
       "    <tr>\n",
       "      <th>4</th>\n",
       "      <td>Frank</td>\n",
       "      <td>62</td>\n",
       "      <td>169</td>\n",
       "    </tr>\n",
       "  </tbody>\n",
       "</table>\n",
       "</div>"
      ],
      "text/plain": [
       "     name  weight  height\n",
       "0   Emily      79     174\n",
       "1   Henry      80     162\n",
       "2  Olivia      58     168\n",
       "3  Thomas      62     156\n",
       "4   Frank      62     169"
      ]
     },
     "execution_count": 5,
     "metadata": {},
     "output_type": "execute_result"
    }
   ],
   "source": [
    "import pandas as pd \n",
    "df = pd.read_csv('dummy_student_data.csv')\n",
    "df.head()"
   ]
  }
 ],
 "metadata": {
  "kernelspec": {
   "display_name": "Python 3 (ipykernel)",
   "language": "python",
   "name": "python3"
  },
  "language_info": {
   "codemirror_mode": {
    "name": "ipython",
    "version": 3
   },
   "file_extension": ".py",
   "mimetype": "text/x-python",
   "name": "python",
   "nbconvert_exporter": "python",
   "pygments_lexer": "ipython3",
   "version": "3.11.4"
  }
 },
 "nbformat": 4,
 "nbformat_minor": 5
}
