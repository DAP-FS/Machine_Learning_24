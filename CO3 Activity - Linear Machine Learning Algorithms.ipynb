{
 "cells": [
  {
   "cell_type": "markdown",
   "id": "c4148c07",
   "metadata": {},
   "source": [
    "## **CO3 - Linear Regression with Dependent and Independent Variables:** \n",
    "    \n",
    "3.1. loss functions<br> \n",
    "3.2. gradient descent<br> \n",
    "3.3. Evaluation Metrics: \n",
    "- 3.3.1 - Mean Squared Error, \n",
    "- 3.3.2 - Mean Absolute Error, \n",
    "- 3.3.3 - Root Mean Squared Error.\n",
    "\n",
    "**Algorithms for Activity**\n",
    "- Linear regression\n",
    "- Multiple linear regression, "
   ]
  },
  {
   "cell_type": "markdown",
   "id": "2cfe2c5c",
   "metadata": {},
   "source": [
    "### Apply Linear Regression to Analyse the Relationship between Independent and dependent variables.<br>\n",
    "<br>\n",
    "\n",
    "\n",
    "- Ashwini Kumar Mathur (SoCSE)\n",
    "- Reference: Bard. (2024). Retrieved from https://bard.google.com/\n"
   ]
  },
  {
   "cell_type": "markdown",
   "id": "10936ed5",
   "metadata": {},
   "source": [
    "### Loss Functions and Gradient Descent \n",
    "\n",
    "**The story of Maze Runner**\n",
    "\n",
    "\n",
    "**Loss Function:**<br>  \n",
    "Imagine you're lost in a maze trying to find the exit.<br> \n",
    "Each path you take is like a guess about the direction to the exit. \n",
    "\n",
    "A. **But how do you know if you're getting closer or further away?**\n",
    "\n",
    "**Solution:** \n",
    "Think of the loss function as a honest guide who tells you how bad your current guess (path) is.<br>\n",
    "The **worse your guess**, the **higher the loss**, But if you get closer, the loss goes down.\n",
    "\n",
    "\n",
    "B. Now, **how do you actually move towards the exit based on the guide's feedback?** \n",
    "\n",
    "**Solution**: That's where **gradient descent** steps in. Think of it as a gentle friend who listens to the guide and nudges you in the direction with the lower loss, eventually leading you out of the maze.\n",
    "\n",
    "\n",
    "**Steps of Calculating Loss Function and Gradient Descent**\n",
    "\n",
    "Here's how it works:\n",
    "\n",
    "01. **Take a guess (choose a path):** Your initial model is like a blind guess about the correct path.\n",
    "02. **Calculate the loss (listen to the guide):** Use the loss function to measure how bad your guess is.\n",
    "03. **Find the direction of lower loss (ask the friend):** Calculate the gradient of the loss function, which points in the direction of lower loss.\n",
    "04. **Take a small step in that direction (follow the friend's nudge):** Update your model parameters (like taking a small step) in the direction of the gradient.\n",
    "05. **Repeat steps 2-4 until you reach the exit (minimize the loss):** Keep iterating, always moving towards the direction with lower loss, until you finally exit the maze (find the optimal model parameters)."
   ]
  },
  {
   "cell_type": "markdown",
   "id": "63cc26b2",
   "metadata": {},
   "source": [
    "## **Optional:** Associated Mathematical Understanding with python implementation: \n",
    "\n",
    "Imagine you have just one data point:\n",
    "\n",
    "x = 2\n",
    "y = 5\n",
    "\n",
    "You want to create a **linear model to predict y from x:**\n",
    "\n",
    "**y = w * x + b**\n",
    "\n",
    "-------------------------------------------------------------------------\n",
    "\n",
    "**DETAILED STEPS**\n",
    "\n",
    "1. **Loss Calculation (Mean Squared Error):**\n",
    "\n",
    "- Formula: Loss = (Predicted y - Actual y)^2<br>\n",
    "\n",
    "**Example:**\n",
    "\n",
    "- Predicted y (w=0, b=0) = 0 * 2 + 0 = 0\n",
    "- Actual y = 5\n",
    "- Loss = (0 - 5)^2 = 25\n",
    "\n",
    "2. **Gradient Calculation:**\n",
    "\n",
    "Gradients tell us the direction and magnitude of change needed to reduce loss.\n",
    "Partial derivatives of the loss function w.r.t. w and b:\n",
    "\n",
    "- Gradient of w = 2 * (Predicted y - Actual y) * x\n",
    "- Gradient of b = 2 * (Predicted y - Actual y)\n",
    "\n",
    "**Example:**\n",
    "\n",
    "- Gradient of w = 2 * (0 - 5) * 2 = -20\n",
    "- Gradient of b = 2 * (0 - 5) = -10\n",
    "\n",
    "3. **Parameter Update (Gradient Descent):**\n",
    "\n",
    "Update w and b using the gradients and a learning rate:\n",
    "\n",
    "- w = w - (learning rate * gradient of w)\n",
    "- b = b - (learning rate * gradient of b)\n",
    "\n",
    "Learning rate controls how much we adjust parameters each step.\n",
    "\n",
    "**Example (learning rate = 0.1):**\n",
    "\n",
    "- w = 0 - (0.1 * -20) = 2\n",
    "- b = 0 - (0.1 * -10) = 1\n",
    "\n",
    "4. **Iteration:**\n",
    "\n",
    "Repeat steps 1-3 with updated parameters until loss is minimized.\n",
    "Each iteration refines w and b towards better model fit.\n",
    "\n",
    "**Example (Iteration 2):**\n",
    "\n",
    "- Predicted y (w=2, b=1) = 2 * 2 + 1 = 5\n",
    "- Loss = (5 - 5)^2 = 0 (Loss minimized, model fits perfectly)\n"
   ]
  },
  {
   "cell_type": "code",
   "execution_count": 5,
   "id": "210e5862",
   "metadata": {},
   "outputs": [],
   "source": [
    "#import the neccessary Library \n",
    "import numpy as np\n",
    "import matplotlib.pyplot as plt"
   ]
  },
  {
   "cell_type": "code",
   "execution_count": 21,
   "id": "37997992",
   "metadata": {},
   "outputs": [],
   "source": [
    "# Generate sample data\n",
    "x_data = np.linspace(0, 10, 50)\n",
    "y_data = 2 * x_data + 5 + np.random.randn(50) * 3  # Add some noise\n",
    "\n",
    "# Define the model\n",
    "def model(x, w, b):\n",
    "    return w * x + b\n",
    "\n",
    "# Initialize model parameters\n",
    "w = 0\n",
    "b = 0\n",
    "\n",
    "# Learning rate\n",
    "learning_rate = 0.01\n",
    "\n",
    "# Number of iterations\n",
    "epochs = 100\n",
    "\n",
    "# Calculate loss (mean squared error)\n",
    "def loss(y_true, y_pred):\n",
    "    return np.mean((y_true - y_pred)**2)"
   ]
  },
  {
   "cell_type": "code",
   "execution_count": 22,
   "id": "53cd804f",
   "metadata": {},
   "outputs": [
    {
     "name": "stdout",
     "output_type": "stream",
     "text": [
      "Epoch 1, Loss: 286.1535\n",
      "Epoch 11, Loss: 12.9678\n",
      "Epoch 21, Loss: 12.6604\n",
      "Epoch 31, Loss: 12.4242\n",
      "Epoch 41, Loss: 12.1997\n",
      "Epoch 51, Loss: 11.9862\n",
      "Epoch 61, Loss: 11.7833\n",
      "Epoch 71, Loss: 11.5903\n",
      "Epoch 81, Loss: 11.4068\n",
      "Epoch 91, Loss: 11.2323\n"
     ]
    }
   ],
   "source": [
    "# Gradient descent\n",
    "for epoch in range(epochs):\n",
    "    # Calculate predictions\n",
    "    y_pred = model(x_data, w, b)\n",
    "\n",
    "    # Calculate gradients\n",
    "    dw = (1/len(x_data)) * np.sum(x_data * (y_pred - y_data))\n",
    "    db = (1/len(x_data)) * np.sum(y_pred - y_data)\n",
    "\n",
    "    # Update parameters\n",
    "    w -= learning_rate * dw\n",
    "    b -= learning_rate * db\n",
    "\n",
    "    # Print loss every 10 iterations\n",
    "    if epoch % 10 == 0:\n",
    "        print(f\"Epoch {epoch+1}, Loss: {loss(y_data, y_pred):.4f}\")"
   ]
  },
  {
   "cell_type": "code",
   "execution_count": 16,
   "id": "5a8c71ff",
   "metadata": {},
   "outputs": [
    {
     "data": {
      "image/png": "[encoded data removed]",
      "text/plain": [
       "<Figure size 640x480 with 1 Axes>"
      ]
     },
     "metadata": {},
     "output_type": "display_data"
    }
   ],
   "source": [
    "# Visualize results\n",
    "plt.scatter(x_data, y_data, label='Data')\n",
    "plt.plot(x_data, model(x_data, w, b), color='red', label='Model')\n",
    "plt.xlabel('x')\n",
    "plt.ylabel('y')\n",
    "plt.legend()\n",
    "plt.show()"
   ]
  },
  {
   "cell_type": "markdown",
   "id": "27ef26bb",
   "metadata": {},
   "source": [
    "###  **Code Explanation:**\n",
    "\n",
    "01. **Import libraries:** numpy for numerical operations, matplotlib for visualization.\n",
    "02. **Generate sample data:** Create data points for a linear relationship with some noise.\n",
    "03. **Define the model:** A simple linear function **y = w*x + b.**\n",
    "04. **Initialize parameters:** Set initial values for w and b.\n",
    "05. **Set learning rate:** Choose a value that controls the step size in parameter updates.\n",
    "06.  **Gradient descent loop: **\n",
    "- Calculate predictions using the current model.\n",
    "- Calculate gradients of the loss function with respect to w and b.\n",
    "- Update parameters using the gradients and learning rate.\n",
    "- Print loss every 10 iterations to track progress.\n",
    "07. Visualize: Plot the data and the learned model line.\n",
    "\n",
    "\n",
    "**Note:** You can experiment with different learning rates, number of iterations, and datasets to observe changes in convergence and model fit."
   ]
  },
  {
   "cell_type": "markdown",
   "id": "3ef61e88",
   "metadata": {},
   "source": [
    "### Basic Overview of Independent and dependent varaibles.\n",
    "\n",
    "**Independent Variable (IV):** The variable you control or manipulate in an experiment or study. It's the \"cause\" you think might affect the outcome.\n",
    "\n",
    "**Dependent Variable (DV):** The variable you measure or observe to see how it changes in response to the independent variable. It's the \"effect\" you're interested in.\n",
    "\n",
    "Lets understand with the help of example mentioned below: \n",
    "\n",
    "### Nutrition Diet Examples:\n",
    "\n",
    "1. **Independent Variable:** Amount of fruits and vegetables consumed per day (e.g., 0 servings, 2 servings, 5 servings)<br>\n",
    "**Dependent Variable:** Blood pressure levels<br>\n",
    "<br>\n",
    "2. **Independent Variable:** Type of breakfast consumed (e.g., high-protein, high-fiber, high-sugar)<br>\n",
    "**Dependent Variable:** Energy levels and cognitive performance throughout the morning<br>\n",
    "<br>\n",
    "3. **Independent Variable:** Daily water intake (e.g., 1 liter, 2 liters, 3 liters)<br>\n",
    "**Dependent Variable:** Skin hydration levels<br>\n",
    "<br>\n",
    "4. **Independent Variable:** Amount of added sugar in the diet (e.g., 0 grams, 25 grams, 50 grams)<br>\n",
    "**Dependent Variable:** Weight gain or loss<br>\n",
    "<br>\n",
    "5. **Independent Variable:** Frequency of exercise per week (e.g., 0 times, 3 times, 5 times)<br>\n",
    "**Dependent Variable:** Muscle mass and body composition"
   ]
  },
  {
   "cell_type": "markdown",
   "id": "47e47833",
   "metadata": {},
   "source": [
    "**Exercise 01: Plant Growth:**\n",
    "\n",
    "Imagine you're growing a plant and want to understand how it grows.\n",
    "\n",
    "- **Independent variable:** Amount of sunlight the plant receives (e.g., 4 hours, 8 hours, 12 hours)\n",
    "- **Dependent variable:** Height of the plant after a week\n",
    "\n",
    "**Questions [understanding level]:**\n",
    "\n",
    "- How does changing the amount of sunlight (independent variable) affect the height of the plant (dependent variable)?\n",
    "**Ans:** Height might change with different sunlight levels.\n",
    "\n",
    "- Can you change the height of the plant (dependent variable) without changing the amount of sunlight (independent variable)?\n",
    "**Ans:** Other factors water, soil quality, fertilizer, or plant type that could influence height independently of sunlight.\n",
    "\n",
    "- Try to think of other factors that might influence the plant's height (besides sunlight), are they independent or dependent variables?\n",
    "**Ans:** Temperature, humidity, CO2 levels, and dependent variables like leaf size, stem thickness, or flowering frequency.\n"
   ]
  },
  {
   "cell_type": "markdown",
   "id": "b77ed143",
   "metadata": {},
   "source": [
    "### Activity: Linear regression introductory practices for predictive analysis"
   ]
  },
  {
   "cell_type": "code",
   "execution_count": 10,
   "id": "df8728ae",
   "metadata": {},
   "outputs": [],
   "source": [
    "import pandas as pd\n",
    "from sklearn.linear_model import LinearRegression\n",
    "import matplotlib.pyplot as plt"
   ]
  },
  {
   "cell_type": "code",
   "execution_count": 22,
   "id": "19307b61",
   "metadata": {},
   "outputs": [],
   "source": [
    "# Create sample data\n",
    "data = {\n",
    "    'fruits_veggies': [0, 2, 5, 1, 3, 4],\n",
    "    'blood_pressure': [140, 125, 110, 135, 120, 115]\n",
    "}\n",
    "\n",
    "# Dependent Variable = blood_pressure\n",
    "# Independent Variable = fruits_veggies"
   ]
  },
  {
   "cell_type": "code",
   "execution_count": 12,
   "id": "c0c85531",
   "metadata": {},
   "outputs": [
    {
     "data": {
      "text/plain": [
       "{'fruits_veggies': [0, 2, 5, 1, 3, 4],\n",
       " 'blood_pressure': [140, 125, 110, 135, 120, 115]}"
      ]
     },
     "execution_count": 12,
     "metadata": {},
     "output_type": "execute_result"
    }
   ],
   "source": [
    "data"
   ]
  },
  {
   "cell_type": "code",
   "execution_count": 13,
   "id": "9a6c051d",
   "metadata": {},
   "outputs": [],
   "source": [
    "# Create a DataFrame\n",
    "df = pd.DataFrame(data)"
   ]
  },
  {
   "cell_type": "code",
   "execution_count": 14,
   "id": "334c00e1",
   "metadata": {},
   "outputs": [
    {
     "data": {
      "text/html": [
       "<div>\n",
       "<style scoped>\n",
       "    .dataframe tbody tr th:only-of-type {\n",
       "        vertical-align: middle;\n",
       "    }\n",
       "\n",
       "    .dataframe tbody tr th {\n",
       "        vertical-align: top;\n",
       "    }\n",
       "\n",
       "    .dataframe thead th {\n",
       "        text-align: right;\n",
       "    }\n",
       "</style>\n",
       "<table border=\"1\" class=\"dataframe\">\n",
       "  <thead>\n",
       "    <tr style=\"text-align: right;\">\n",
       "      <th></th>\n",
       "      <th>fruits_veggies</th>\n",
       "      <th>blood_pressure</th>\n",
       "    </tr>\n",
       "  </thead>\n",
       "  <tbody>\n",
       "    <tr>\n",
       "      <th>0</th>\n",
       "      <td>0</td>\n",
       "      <td>140</td>\n",
       "    </tr>\n",
       "    <tr>\n",
       "      <th>1</th>\n",
       "      <td>2</td>\n",
       "      <td>125</td>\n",
       "    </tr>\n",
       "    <tr>\n",
       "      <th>2</th>\n",
       "      <td>5</td>\n",
       "      <td>110</td>\n",
       "    </tr>\n",
       "    <tr>\n",
       "      <th>3</th>\n",
       "      <td>1</td>\n",
       "      <td>135</td>\n",
       "    </tr>\n",
       "    <tr>\n",
       "      <th>4</th>\n",
       "      <td>3</td>\n",
       "      <td>120</td>\n",
       "    </tr>\n",
       "    <tr>\n",
       "      <th>5</th>\n",
       "      <td>4</td>\n",
       "      <td>115</td>\n",
       "    </tr>\n",
       "  </tbody>\n",
       "</table>\n",
       "</div>"
      ],
      "text/plain": [
       "   fruits_veggies  blood_pressure\n",
       "0               0             140\n",
       "1               2             125\n",
       "2               5             110\n",
       "3               1             135\n",
       "4               3             120\n",
       "5               4             115"
      ]
     },
     "execution_count": 14,
     "metadata": {},
     "output_type": "execute_result"
    }
   ],
   "source": [
    "df"
   ]
  },
  {
   "cell_type": "code",
   "execution_count": 15,
   "id": "63ec641c",
   "metadata": {},
   "outputs": [],
   "source": [
    "# Define independent and dependent variables\n",
    "X = df['fruits_veggies'].values.reshape(-1, 1)  # Reshape for linear regression\n",
    "y = df['blood_pressure']"
   ]
  },
  {
   "cell_type": "code",
   "execution_count": 16,
   "id": "35d4ddb4",
   "metadata": {},
   "outputs": [
    {
     "data": {
      "text/plain": [
       "array([[0],\n",
       "       [2],\n",
       "       [5],\n",
       "       [1],\n",
       "       [3],\n",
       "       [4]])"
      ]
     },
     "execution_count": 16,
     "metadata": {},
     "output_type": "execute_result"
    }
   ],
   "source": [
    "X #convert into 2D array "
   ]
  },
  {
   "cell_type": "code",
   "execution_count": 17,
   "id": "64fecbcc",
   "metadata": {},
   "outputs": [],
   "source": [
    "# Create a linear regression model \n",
    "model = LinearRegression()"
   ]
  },
  {
   "cell_type": "code",
   "execution_count": 18,
   "id": "c9ef6d35",
   "metadata": {},
   "outputs": [
    {
     "data": {
      "text/html": [
       "<style>#sk-container-id-1 {color: black;}#sk-container-id-1 pre{padding: 0;}#sk-container-id-1 div.sk-toggleable {background-color: white;}#sk-container-id-1 label.sk-toggleable__label {cursor: pointer;display: block;width: 100%;margin-bottom: 0;padding: 0.3em;box-sizing: border-box;text-align: center;}#sk-container-id-1 label.sk-toggleable__label-arrow:before {content: \"▸\";float: left;margin-right: 0.25em;color: #696969;}#sk-container-id-1 label.sk-toggleable__label-arrow:hover:before {color: black;}#sk-container-id-1 div.sk-estimator:hover label.sk-toggleable__label-arrow:before {color: black;}#sk-container-id-1 div.sk-toggleable__content {max-height: 0;max-width: 0;overflow: hidden;text-align: left;background-color: #f0f8ff;}#sk-container-id-1 div.sk-toggleable__content pre {margin: 0.2em;color: black;border-radius: 0.25em;background-color: #f0f8ff;}#sk-container-id-1 input.sk-toggleable__control:checked~div.sk-toggleable__content {max-height: 200px;max-width: 100%;overflow: auto;}#sk-container-id-1 input.sk-toggleable__control:checked~label.sk-toggleable__label-arrow:before {content: \"▾\";}#sk-container-id-1 div.sk-estimator input.sk-toggleable__control:checked~label.sk-toggleable__label {background-color: #d4ebff;}#sk-container-id-1 div.sk-label input.sk-toggleable__control:checked~label.sk-toggleable__label {background-color: #d4ebff;}#sk-container-id-1 input.sk-hidden--visually {border: 0;clip: rect(1px 1px 1px 1px);clip: rect(1px, 1px, 1px, 1px);height: 1px;margin: -1px;overflow: hidden;padding: 0;position: absolute;width: 1px;}#sk-container-id-1 div.sk-estimator {font-family: monospace;background-color: #f0f8ff;border: 1px dotted black;border-radius: 0.25em;box-sizing: border-box;margin-bottom: 0.5em;}#sk-container-id-1 div.sk-estimator:hover {background-color: #d4ebff;}#sk-container-id-1 div.sk-parallel-item::after {content: \"\";width: 100%;border-bottom: 1px solid gray;flex-grow: 1;}#sk-container-id-1 div.sk-label:hover label.sk-toggleable__label {background-color: #d4ebff;}#sk-container-id-1 div.sk-serial::before {content: \"\";position: absolute;border-left: 1px solid gray;box-sizing: border-box;top: 0;bottom: 0;left: 50%;z-index: 0;}#sk-container-id-1 div.sk-serial {display: flex;flex-direction: column;align-items: center;background-color: white;padding-right: 0.2em;padding-left: 0.2em;position: relative;}#sk-container-id-1 div.sk-item {position: relative;z-index: 1;}#sk-container-id-1 div.sk-parallel {display: flex;align-items: stretch;justify-content: center;background-color: white;position: relative;}#sk-container-id-1 div.sk-item::before, #sk-container-id-1 div.sk-parallel-item::before {content: \"\";position: absolute;border-left: 1px solid gray;box-sizing: border-box;top: 0;bottom: 0;left: 50%;z-index: -1;}#sk-container-id-1 div.sk-parallel-item {display: flex;flex-direction: column;z-index: 1;position: relative;background-color: white;}#sk-container-id-1 div.sk-parallel-item:first-child::after {align-self: flex-end;width: 50%;}#sk-container-id-1 div.sk-parallel-item:last-child::after {align-self: flex-start;width: 50%;}#sk-container-id-1 div.sk-parallel-item:only-child::after {width: 0;}#sk-container-id-1 div.sk-dashed-wrapped {border: 1px dashed gray;margin: 0 0.4em 0.5em 0.4em;box-sizing: border-box;padding-bottom: 0.4em;background-color: white;}#sk-container-id-1 div.sk-label label {font-family: monospace;font-weight: bold;display: inline-block;line-height: 1.2em;}#sk-container-id-1 div.sk-label-container {text-align: center;}#sk-container-id-1 div.sk-container {/* jupyter's `normalize.less` sets `[hidden] { display: none; }` but bootstrap.min.css set `[hidden] { display: none !important; }` so we also need the `!important` here to be able to override the default hidden behavior on the sphinx rendered scikit-learn.org. See: https://github.com/scikit-learn/scikit-learn/issues/21755 */display: inline-block !important;position: relative;}#sk-container-id-1 div.sk-text-repr-fallback {display: none;}</style><div id=\"sk-container-id-1\" class=\"sk-top-container\"><div class=\"sk-text-repr-fallback\"><pre>LinearRegression()</pre><b>In a Jupyter environment, please rerun this cell to show the HTML representation or trust the notebook. <br />On GitHub, the HTML representation is unable to render, please try loading this page with nbviewer.org.</b></div><div class=\"sk-container\" hidden><div class=\"sk-item\"><div class=\"sk-estimator sk-toggleable\"><input class=\"sk-toggleable__control sk-hidden--visually\" id=\"sk-estimator-id-1\" type=\"checkbox\" checked><label for=\"sk-estimator-id-1\" class=\"sk-toggleable__label sk-toggleable__label-arrow\">LinearRegression</label><div class=\"sk-toggleable__content\"><pre>LinearRegression()</pre></div></div></div></div></div>"
      ],
      "text/plain": [
       "LinearRegression()"
      ]
     },
     "execution_count": 18,
     "metadata": {},
     "output_type": "execute_result"
    }
   ],
   "source": [
    "# Fit the model to the data\n",
    "model.fit(X, y)"
   ]
  },
  {
   "cell_type": "code",
   "execution_count": 19,
   "id": "1ecfe3b9",
   "metadata": {},
   "outputs": [],
   "source": [
    "# Make predictions\n",
    "predicted_bp = model.predict(X)"
   ]
  },
  {
   "cell_type": "code",
   "execution_count": 20,
   "id": "02b82ed3",
   "metadata": {},
   "outputs": [
    {
     "data": {
      "image/png": "[encoded data removed]",
      "text/plain": [
       "<Figure size 640x480 with 1 Axes>"
      ]
     },
     "metadata": {},
     "output_type": "display_data"
    }
   ],
   "source": [
    "# Visualize the results\n",
    "plt.scatter(X, y, label='Actual Blood Pressure')\n",
    "plt.plot(X, predicted_bp, color='red', label='Predicted Blood Pressure')\n",
    "plt.xlabel('Fruits/Veggies Intake (servings/day)')\n",
    "plt.ylabel('Blood Pressure (mmHg)')\n",
    "plt.title('Linear Regression: Fruits/Veggies vs Blood Pressure')\n",
    "plt.legend()\n",
    "plt.show()"
   ]
  },
  {
   "cell_type": "code",
   "execution_count": 21,
   "id": "45cfd3ef",
   "metadata": {},
   "outputs": [
    {
     "name": "stdout",
     "output_type": "stream",
     "text": [
      "Slope: -6.142857142857142\n",
      "Intercept: 139.52380952380952\n"
     ]
    }
   ],
   "source": [
    "# Print the model's slope and intercept\n",
    "print(\"Slope:\", model.coef_[0])\n",
    "print(\"Intercept:\", model.intercept_)"
   ]
  },
  {
   "cell_type": "code",
   "execution_count": 27,
   "id": "aae2fc11",
   "metadata": {},
   "outputs": [
    {
     "name": "stdout",
     "output_type": "stream",
     "text": [
      "R-squared: 0.9843833185448092\n"
     ]
    }
   ],
   "source": [
    "# Evaluation Metrics using R squared error\n",
    "'''\n",
    "R-squared: Measures the proportion of variance in the dependent variable explained by the model. \n",
    "Higher values (closer to 1) indicate better fit.\n",
    "'''\n",
    "print(\"R-squared:\", model.score(X, y))"
   ]
  },
  {
   "cell_type": "code",
   "execution_count": 29,
   "id": "3302619f",
   "metadata": {},
   "outputs": [
    {
     "name": "stdout",
     "output_type": "stream",
     "text": [
      "Mean Squared Error: 1.7460317460317463\n"
     ]
    }
   ],
   "source": [
    "# Evaluation Metrics using Mean_Squared_error\n",
    "'''\n",
    "Mean Squared Error (MSE): Average squared difference between actual and predicted values. \n",
    "Lower values indicate better fit.\n",
    "'''\n",
    "\n",
    "from sklearn.metrics import mean_squared_error\n",
    "print(\"Mean Squared Error:\", mean_squared_error(y, predicted_bp))"
   ]
  },
  {
   "cell_type": "markdown",
   "id": "f38dc219",
   "metadata": {},
   "source": [
    "### Interpretation of the above:\n",
    "\n",
    "**R-squared (R²):**<br>\n",
    "<br>\n",
    "**Measures:** The proportion of the variance in the dependent variable (y) that's explained by the independent variable (x) in the model.<br>\n",
    "**Range:** 0 to 1, with 0 indicating no relationship and 1 indicating a perfect fit.\n",
    "\n",
    "\n",
    "**Interpretation:**<br>\n",
    "- A higher R-squared value suggests the model explains more of the variability in the data.\n",
    "For example, an R-squared of 0.75 suggests the model accounts for 75% of the observed variation in the dependent variable.<br>\n",
    "- However, it's **crucial to note that R-squared doesn't guarantee model quality or causation.** It's possible to have high R-squared values for models that don't represent true relationships.\n",
    "\n",
    "**Mean Squared Error (MSE):**<br>\n",
    "<br>\n",
    "**Measures:** The average squared difference between the actual values (y) and the predicted values (ŷ).\n",
    "Interpretation:<br>\n",
    "\n",
    "- A lower MSE indicates a better fit, as the model's predictions are closer to the observed values.\n",
    "MSE is expressed in the same units as the squared dependent variable, making it interpretable in the context of the problem.\n",
    "\n",
    "- **For example**, an MSE of 25 (mmHg)² suggests an average error of 5 mmHg in blood pressure predictions.\n"
   ]
  }
 ],
 "metadata": {
  "kernelspec": {
   "display_name": "Python 3 (ipykernel)",
   "language": "python",
   "name": "python3"
  },
  "language_info": {
   "codemirror_mode": {
    "name": "ipython",
    "version": 3
   },
   "file_extension": ".py",
   "mimetype": "text/x-python",
   "name": "python",
   "nbconvert_exporter": "python",
   "pygments_lexer": "ipython3",
   "version": "3.11.4"
  }
 },
 "nbformat": 4,
 "nbformat_minor": 5
}
